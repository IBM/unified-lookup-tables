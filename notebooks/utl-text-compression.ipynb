{
 "cells": [
  {
   "cell_type": "markdown",
   "metadata": {},
   "source": [
    "# ULT demo on text encoding using BWRLET"
   ]
  },
  {
   "cell_type": "code",
   "execution_count": 1,
   "metadata": {},
   "outputs": [],
   "source": [
    "from ult.configuration import UnicodeTextBWRLETransformParameters\n",
    "from ult.transforms import UnicodeTextBWRLETransform"
   ]
  },
  {
   "cell_type": "code",
   "execution_count": 2,
   "metadata": {},
   "outputs": [],
   "source": [
    "# Sample texts from Lewis Carrol's Alice in Wonderland.\n",
    "EXAMPLE_TEXTS = [\n",
    "    \"CHAPTER I.\",\n",
    "    \"Down the Rabbit-Hole\",\n",
    "    \"Alice was beginning to get very tired of sitting by her sister on the bank, and of having nothing to do: once or twice she had peeped into the book her sister was reading, but it had no pictures or conversations in it, “and what is the use of a book,” thought Alice “without pictures or conversations?”\",\n",
    "    \"So she was considering in her own mind (as well as she could, for the hot day made her feel very sleepy and stupid), whether the pleasure of making a daisy-chain would be worth the trouble of getting up and picking the daisies, when suddenly a White Rabbit with pink eyes ran close by her.\",\n",
    "    \"There was nothing so very remarkable in that; nor did Alice think it so very much out of the way to hear the Rabbit say to itself, “Oh dear! Oh dear! I shall be late!” (when she thought it over afterwards, it occurred to her that she ought to have wondered at this, but at the time it all seemed quite natural); but when the Rabbit actually took a watch out of its waistcoat-pocket, and looked at it, and then hurried on, Alice started to her feet, for it flashed across her mind that she had never before seen a rabbit with either a waistcoat-pocket, or a watch to take out of it, and burning with curiosity, she ran across the field after it, and fortunately was just in time to see it pop down a large rabbit-hole under the hedge.\",\n",
    "    \"In another moment down went Alice after it, never once considering how in the world she was to get out again.\",\n",
    "]"
   ]
  },
  {
   "cell_type": "code",
   "execution_count": 3,
   "metadata": {},
   "outputs": [
    {
     "data": {
      "text/plain": [
       "UnicodeTextBWRLETransformParameters(compression_method='Burrows Wheeler + Run Length Encoding Text Transform', patch_size=8, offset_value=33, default_separator='\\x1e', occurrences_path=None)"
      ]
     },
     "execution_count": 3,
     "metadata": {},
     "output_type": "execute_result"
    }
   ],
   "source": [
    "# Use default parameters\n",
    "parameters = UnicodeTextBWRLETransformParameters()\n",
    "parameters"
   ]
  },
  {
   "cell_type": "code",
   "execution_count": 4,
   "metadata": {},
   "outputs": [
    {
     "data": {
      "text/plain": [
       "<ult.transforms.UnicodeTextBWRLETransform at 0x1213214d0>"
      ]
     },
     "execution_count": 4,
     "metadata": {},
     "output_type": "execute_result"
    }
   ],
   "source": [
    "# Init BWRLET transform for text\n",
    "unicoder = UnicodeTextBWRLETransform(configuration=parameters)\n",
    "unicoder.add_multiple_instances(EXAMPLE_TEXTS)\n",
    "unicoder"
   ]
  },
  {
   "cell_type": "code",
   "execution_count": 5,
   "metadata": {},
   "outputs": [
    {
     "name": "stdout",
     "output_type": "stream",
     "text": [
      "Original text:\n",
      "CHAPTER I.\n",
      "ULT encoded text:\n",
      "!>F\"HP=QR\u001e@E\"\n",
      "ULT decoded text:\n",
      "w“Ib<nb(w“I\n",
      "\n",
      "\n",
      "Original text:\n",
      "Down the Rabbit-Hole\n",
      "ULT encoded text:\n",
      "#)\"($.S!&\u001e?\"$!>%C'\u001e#\"-&F\n",
      "ULT decoded text:\n",
      "!!!!!!!!!!!!!!!!!!!\n",
      "\n",
      "\n",
      "Original text:\n",
      "Alice was beginning to get very tired of sitting by her sister on the bank, and of having nothing to do: once or twice she had peeped into the book her sister was reading, but it had no pictures or conversations in it, “and what is the use of a book,” thought Alice “without pictures or conversations?”\n",
      "ULT encoded text:\n",
      "%#\".'0-=!\u001e)+!2#4)'\"\u001e4&4!)\"'$!\u001e!6$9\";!*\u001e3,#*&$!'\"\u001e4\")$+'!$'\u001e!*\"6!(!#2\u001e&*$+!#\"'+\u001e%#)2!($\"!\u001e!,57!T%\"\u001e)3(&!9'\"%\u001e)4\"$('!)&\u001eU&4&!\"$,!\u001e*\"#)0&1&\u001e+#\"'0.1$\u001e8#,(%(!\"!\u001e),#8\"#!'#\u001e2#&!(<!\"\u001e!*7(!G\"#\u001e.*$+#\"'+!\u001e'+#\"%*,!%\u001e!$54!)\"/2\u001e)$,(%!\"!'\u001e*&'8\"!/0$\u001e&*+!\"0!&#\u001e'+9$\"#*%)\u001e')+1'&\")\u001e!,5$A)%\"!\u001e!+$(.!'%\"\u001e!;+($/\"!\u001e&3%1G\"2\u001e/B7$\"(!&5\u001e0$!'\"4-=(\u001e&#\"$.('A!\u001e/$'8!/0$\"\u001e0*+!*!&\"#\u001e$+9&\"#*%)\u001eB+\"&')V\n",
      "ULT decoded text:\n",
      "“-“-“-“-“-“-“-“-“-“-“-“-“-“-“-“-“-“-“-“-“-“-“-“-“-“-“-“-“-“-“-“-“-“-“-“-“-“-“-“-“-“-“-“-“-“-“-“-“-“-“-“-“-“-“-“-“-“-“-“-“-“-“-“-“-“-“-“-“-“-“-“-“-“-“-“-“-“-“-“-“-“-“-“-“-“-“-“-“-“-“-“-“-“-“-“-“-“-“-“-“-“-“-“-“-“-“-“-“-“-“-“-“-“-“-“-“-“-“-“-“-“-“-“-“-“-“-“-“-“-“-“-“-“-“-“-“-“-“-“-“-“-“-“-“-“-“-“-“-“-“\n",
      "\n",
      "\n",
      "Original text:\n",
      "So she was considering in her own mind (as well as she could, for the hot day made her feel very sleepy and stupid), whether the pleasure of making a daisy-chain would be worth the trouble of getting up and picking the daisies, when suddenly a White Rabbit with pink eyes ran close by her.\n",
      "ULT encoded text:\n",
      ".&#\"(+W1\u001e'+\"!+&0%)\u001e'4\",)!*'#\u001e.)*(!\"!#&\u001eI,)!):!\"'\u001e!-+\".-#%!\u001e0#+\"!(+%!\u001e&5,-!/3\"&\u001e&#*($!(\"!\u001e%$6:,1\"%\u001e3*#\",(1#\u001e6-\"#9;!*\u001e!6\"-#+#!8\u001e8,\")%/!+$\u001e#5,J'(.\"!\u001e#*K<#!\"\u001e*\"#-8!/%+\u001e73#:\"&%1\u001e%4%,1)\"'\u001e'6(?0%\"'+\u001e!,)-/\".&!\u001e(#\"2$.&*!\u001e&\"#($*$1\u001e!3#/-&2!\"\u001e!X)\"$'$#\u001eY,!)%!/\"\u001e$4')\"70'!\u001e'#,!(\"+%'\u001e)5+(\".;!\u001e-\"/Z)#!+\u001e$%61[('\"\u001e$#!>%2\"2'\u001e'(\"$8.!'!\u001e!+76!)\";\u001e+)*!0%-\"&\u001e*#6!\"(!#2\u001e@\"\n",
      "ULT decoded text:\n",
      "<<<<<<<<<<<<<<<<<<<<<<<<<<<<<<<<<<<<<<<<<<<<<<<<<<<<<<<<<<<<<<<<<<<<<<<<<<<<<<<<<<<<<<<<<<<<d<<<<<<<<<<<<<<<<<<<<<<<<<<<<<<<<<<<<<<<<<<<<S<<<<P<<<<l<<<<<<<<<<<<<<<<<<<n<<<<<<<<<<<<<<<<<<<<<<<<<<<h<<<<<<<<<<<<<<<<<<<<<<<<<<<<<<<<<<<<<<<<<<<<<<<<<<<<<<<d<<<<<<<<<<<<<<<<<<<<<<<<<<D<<<<<<<<<\n",
      "\n",
      "\n",
      "Original text:\n",
      "There was nothing so very remarkable in that; nor did Alice think it so very much out of the way to hear the Rabbit say to itself, “Oh dear! Oh dear! I shall be late!” (when she thought it over afterwards, it occurred to her that she ought to have wondered at this, but at the time it all seemed quite natural); but when the Rabbit actually took a watch out of its waistcoat-pocket, and looked at it, and then hurried on, Alice started to her feet, for it flashed across her mind that she had never before seen a rabbit with either a waistcoat-pocket, or a watch to take out of it, and burning with curiosity, she ran across the field after it, and fortunately was just in time to see it pop down a large rabbit-hole under the hedge.\n",
      "ULT encoded text:\n",
      "%#\".*(H#!\u001e)+$('!)\"&\u001e*4&9\"+#1\u001e76:L#!%\"\u001e!)#\"%-!2'\u001e&M$($!)%\"\u001e-,*!'!,=\"\u001e)#'0$\"('!\u001e!&7$!\"+!'\u001e06/9!#:\"*\u001e3$(&\"1/&\u001e6\"#.($1%\u001e*&\"#(!$%!\u001e2#\"!>%($!\u001e!6$+\"2!'%\u001e-&+!#<\"'\u001e,(53A!\"N!\u001e!(D*!#\"N%\u001e!ED*!#\",%\u001e#-(!2+-%\"\u001e!B\"#-$!%D\u001e()\"(+.#!I\u001e(#\"/4$(!&\u001e#<91\"'&\u001e.*!$%\"#3*\u001e$5+\"*!%,'\u001e#\"&0*!*/0\u001e*&,\"(!$#!\u001e($\"(+$!%!\u001e!$#\"/4!(&\u001e!#&(9!$\"%\u001e,#)*,&.#\"\u001e+\"$!$('%!\u001e<5\"1%/2\u001e:\"#(<'1\u001e-$#!\"!-%'\u001e!,\"#:+;!\u001e%#)$/!\"'\\\u001e!M-J*%/\"$\u001e)$\"(.#/2!\u001e2#\"!>%($!\u001e/$!\"%2'0$\u001e&6\"%-&$!-\u001e07%!.$\"%!\u001e3$(&\"1/&\u001e'\"+.%!$'!\u001e8$&$0?\"%+\u001e%5$!&70\"#\u001e#,)7&!\"&-\u001e5,<!\"!%'\u001e#\",!)($%!\u001e#)'!*\"*/(\u001e-5,)!\"=&!\u001e*#$'0\"%!+\u001e(&,#$!$\"!\u001e5*$3\"#!;\u001e!$\"*13&'\u001e!,-#(\"+3%\u001e(+\"%!*0+&\u001e!,*)\":!'#\u001e#$K$+!%\"\u001e9\",(%)1#\u001eL!2\"#3&#\u001e%)#!\"+;!\u001e!$\"*%C!'\u001e$(!$#.O\"\u001e%*%.!(\"#!\u001e?$&$\"0'%+\u001e!5$&708\"#\u001e$*%!.\"&%!\u001e%&($\"0$1\u001e&$#7\"1/&\u001e)53$!\"!%'\u001e),!\")'*/2\u001e0(4!\"$.'!\u001e6*+'/&'\"$\u001e%#5\"*(+1\u001e+)!%\"*0+&\u001e;\"'(!$3!\u001e*,!-$%\"#3\u001e,5\"$!)!%'\u001e%\")!/3&*$\u001e+6.$#%\"!-\u001e)$\"1'/+]\u001e&\"#:$'$1\u001e!$#\"#+1'\u001e)8!.8,&\"&\u001e#\"%!-4*!%\u001e?\"$*%C!'\u001e,#)-\"&/(!\u001e(#*(\"!$#!\u001e@;4\",\n",
      "ULT decoded text:\n",
      "<<<<<<<<<<<<<<<<<<<<<<<<<<<<<<<i<<<<<<<<<<<<<<<<<<<<<<<<<<<<<<<n<<<<<<<<<<<<<<<<<e<<<<<<<<<<<<<<<<<<<<<< <<<<<<<<<<<<<<<<<<<<<<<<<<<<i<<<<<<<<<<<<<<<<<<<<<<<<<<<<<<<<d<<<<<<<<<<<<<<<<<<<<d<<<<<<<<<<<<<<<<<<<<<<<<<l<<<<<<d<<<<<i<<<<<<<<<<<<<<<<<<<<<<<<<<<<<<P<<<<<<<<<<<<<<<<d<<<“<<<<<<<<<<<<<<<<<<<<<<<<<<<<<<<<<<<<<<<<<<<<<<<<<<<<<<<<<<<<<<<<<<<<<<<<<<<<<<<<<<<<<<<<<<<<<<<<<d<<<<<<<<<<<<<<<<<<<<<<<<<<<<<<<<<i<<<<<<<<<<<<<<<<<<<<<<<<<<<<<<<<d<<<<<<<<<<d<<<<l<<<<<<<<<<<<<P<<<<<<<<<<<<<<<<<<<<<<<<<<<<<<<<<<<<<<<<<<<n <<<<<<<<<<<<<<<<<<<<<<<<<<<<<<<i<<<<<<<<<<<<<<<<<<<<<<<<<<<<<<<n<<<<<<<<<<<<<<<<<e<<<<<<<<<<<<<<<<<<<<<< <<<<<<<<<<<<<<<<<<<<<<<<<<<<i<<<<<<<<<<<<<<<<<<<<<<<<<<<<<<<<d<<<<<<<<<<<<<<<<<<<<d<<<<<<<<<<<<<<<<<<<<<<<<<l<<<<\n",
      "\n",
      "\n",
      "Original text:\n",
      "In another moment down went Alice after it, never once considering how in the world she was to get out again.\n",
      "ULT encoded text:\n",
      "()\"!$E%)&\u001e)*:\"&!#:#\u001e.$)!.,\"!&\u001e0$!'\"-=#)\u001e!*#!\"$%#3\u001e#5$9)\"!'#\u001e0#*!)0&!\"\u001eO,*+&\"#)\u001e'4.)1\"(&\u001e&)#($\".1\u001e!#,-(+*\"!\u001e4&+.!$%!\"\u001e%<!\"!/#&\u001e@)4\"%'\n",
      "ULT decoded text:\n",
      "((((((((((((((((((((((((((((((((((((((((((((((((((((((((((((((((((((((((((((((((((((((((((((((((((((((((((((\n",
      "\n",
      "\n"
     ]
    }
   ],
   "source": [
    "# Encode the sample texts\n",
    "for signal in EXAMPLE_TEXTS:\n",
    "    print(f\"Original text:\")\n",
    "    print(signal)\n",
    "    encoded_text = unicoder.encode(signal)\n",
    "    print(f\"ULT encoded text:\")\n",
    "    print(encoded_text)\n",
    "    reconstructed_signal = unicoder.decode(signal)\n",
    "    print(f\"ULT decoded text:\")\n",
    "    print(reconstructed_signal)\n",
    "    print(\"\\n\")"
   ]
  },
  {
   "cell_type": "code",
   "execution_count": null,
   "metadata": {},
   "outputs": [],
   "source": []
  }
 ],
 "metadata": {
  "kernelspec": {
   "display_name": ".venv",
   "language": "python",
   "name": "python3"
  },
  "language_info": {
   "codemirror_mode": {
    "name": "ipython",
    "version": 3
   },
   "file_extension": ".py",
   "mimetype": "text/x-python",
   "name": "python",
   "nbconvert_exporter": "python",
   "pygments_lexer": "ipython3",
   "version": "3.11.0"
  }
 },
 "nbformat": 4,
 "nbformat_minor": 2
}
